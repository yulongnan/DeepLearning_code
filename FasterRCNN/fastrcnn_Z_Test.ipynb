{
 "cells": [
  {
   "cell_type": "markdown",
   "source": [
    "## 训练数据与验证数据分开读取\r\n",
    "## 数据集的划分"
   ],
   "metadata": {}
  },
  {
   "cell_type": "code",
   "execution_count": 1,
   "source": [
    "import time \r\n",
    "\r\n",
    "import cv2 \r\n",
    "import numpy as np \r\n"
   ],
   "outputs": [],
   "metadata": {}
  },
  {
   "cell_type": "code",
   "execution_count": 2,
   "source": [
    "# 训练集 读取\r\n",
    "train_annotation_path = '2007_train.txt'\r\n",
    "with open(train_annotation_path) as f:  \r\n",
    "    train_lines = f.readlines()  \r\n",
    "np.random.seed(10101) \r\n",
    "np.random.shuffle(train_lines)  \r\n",
    "np.random.seed(None) \r\n",
    "num_train = len(train_lines)  # 获取训练集数量\r\n",
    "\r\n",
    "#验证集 读取\r\n",
    "val_annotation_path = '2007_val.txt'\r\n",
    "with open(val_annotation_path) as f:\r\n",
    "        val_lines = f.readlines() \r\n",
    "np.random.seed(10101) \r\n",
    "np.random.shuffle(val_lines)  \r\n",
    "np.random.seed(None)\r\n",
    "num_val=len(val_lines)       # 获取验证集数量 \r\n",
    "\r\n",
    "print('train_lines: \\r\\n', train_lines) \r\n",
    "print('val_lines: \\r\\n', val_lines) \r\n",
    "\r\n",
    "\r\n"
   ],
   "outputs": [
    {
     "output_type": "stream",
     "name": "stdout",
     "text": [
      "train_lines: \n",
      " ['F:\\\\NYL_FWorkFile\\\\NYL_Trian\\\\faster-rcnn-pytorch-master_Rb_X1/VOCdevkit/VOC2007/JPEGImages/OriRGB_pitaya_000014.jpg\\n', 'F:\\\\NYL_FWorkFile\\\\NYL_Trian\\\\faster-rcnn-pytorch-master_Rb_X1/VOCdevkit/VOC2007/JPEGImages/OriRGB_pitaya_000015.jpg\\n', 'F:\\\\NYL_FWorkFile\\\\NYL_Trian\\\\faster-rcnn-pytorch-master_Rb_X1/VOCdevkit/VOC2007/JPEGImages/OriRGB_pitaya_000007.jpg\\n', 'F:\\\\NYL_FWorkFile\\\\NYL_Trian\\\\faster-rcnn-pytorch-master_Rb_X1/VOCdevkit/VOC2007/JPEGImages/OriRGB_pitaya_000006.jpg\\n', 'F:\\\\NYL_FWorkFile\\\\NYL_Trian\\\\faster-rcnn-pytorch-master_Rb_X1/VOCdevkit/VOC2007/JPEGImages/OriRGB_pitaya_000013.jpg\\n', 'F:\\\\NYL_FWorkFile\\\\NYL_Trian\\\\faster-rcnn-pytorch-master_Rb_X1/VOCdevkit/VOC2007/JPEGImages/OriRGB_pitaya_000003.jpg\\n', 'F:\\\\NYL_FWorkFile\\\\NYL_Trian\\\\faster-rcnn-pytorch-master_Rb_X1/VOCdevkit/VOC2007/JPEGImages/OriRGB_pitaya_000004.jpg\\n', 'F:\\\\NYL_FWorkFile\\\\NYL_Trian\\\\faster-rcnn-pytorch-master_Rb_X1/VOCdevkit/VOC2007/JPEGImages/OriRGB_pitaya_000008.jpg\\n', 'F:\\\\NYL_FWorkFile\\\\NYL_Trian\\\\faster-rcnn-pytorch-master_Rb_X1/VOCdevkit/VOC2007/JPEGImages/OriRGB_pitaya_000001.jpg\\n']\n",
      "val_lines: \n",
      " ['F:\\\\NYL_FWorkFile\\\\NYL_Trian\\\\faster-rcnn-pytorch-master_Rb_X1/VOCdevkit/VOC2007/JPEGImages/OriRGB_pitaya_000012.jpg\\n', 'F:\\\\NYL_FWorkFile\\\\NYL_Trian\\\\faster-rcnn-pytorch-master_Rb_X1/VOCdevkit/VOC2007/JPEGImages/OriRGB_pitaya_000009.jpg\\n', 'F:\\\\NYL_FWorkFile\\\\NYL_Trian\\\\faster-rcnn-pytorch-master_Rb_X1/VOCdevkit/VOC2007/JPEGImages/OriRGB_pitaya_000005.jpg\\n']\n"
     ]
    }
   ],
   "metadata": {}
  },
  {
   "cell_type": "code",
   "execution_count": 3,
   "source": [
    "Tlist = np.arange(1,100,1)\r\n",
    "print(Tlist)"
   ],
   "outputs": [
    {
     "output_type": "stream",
     "name": "stdout",
     "text": [
      "[ 1  2  3  4  5  6  7  8  9 10 11 12 13 14 15 16 17 18 19 20 21 22 23 24\n",
      " 25 26 27 28 29 30 31 32 33 34 35 36 37 38 39 40 41 42 43 44 45 46 47 48\n",
      " 49 50 51 52 53 54 55 56 57 58 59 60 61 62 63 64 65 66 67 68 69 70 71 72\n",
      " 73 74 75 76 77 78 79 80 81 82 83 84 85 86 87 88 89 90 91 92 93 94 95 96\n",
      " 97 98 99]\n"
     ]
    }
   ],
   "metadata": {}
  },
  {
   "cell_type": "code",
   "execution_count": 4,
   "source": [
    "import random \r\n",
    "num = len(Tlist) \r\n",
    "random.sample "
   ],
   "outputs": [
    {
     "output_type": "execute_result",
     "data": {
      "text/plain": [
       "<bound method Random.sample of <random.Random object at 0x00000128824499B8>>"
      ]
     },
     "metadata": {},
     "execution_count": 4
    }
   ],
   "metadata": {}
  },
  {
   "cell_type": "code",
   "execution_count": 5,
   "source": [
    "np.random.seed(0) #随机种子0，随机数固定 \r\n",
    "\r\n",
    "train_percent = 0.7 \r\n",
    "val_percent = 0.15 \r\n",
    "test_percent = 0.15 \r\n",
    "\r\n",
    "num_Total =100\r\n",
    "\r\n",
    "num_train = int(train_percent * num_Total)\r\n",
    "num_val = int(val_percent * num_Total)\r\n",
    "num_test = int(test_percent * num_Total)\r\n",
    "\r\n",
    "\r\n",
    "datasetindex = np.arange(1, num_Total+1, 1) \r\n",
    "print('datasetindex',datasetindex, len(datasetindex ))  \r\n",
    "\r\n",
    "train_index = np.random.choice(datasetindex, num_train, replace = False)   # replace = False 保证元素不重复\r\n",
    "print('train_index',np.sort(train_index), len(train_index))   \r\n",
    "\r\n",
    "datasetindex_remian= list(set(datasetindex) ^ set(train_index)) #剩余的数据集索引   \r\n",
    "print('datasetindex_remian',datasetindex_remian, len(datasetindex_remian))   \r\n",
    "\r\n",
    "val_index = np.random.choice(datasetindex_remian, num_val, replace = False)   # replace = False 保证元素不重复\r\n",
    "print('val_index', np.sort(val_index), len(val_index))  \r\n",
    "\r\n",
    "test_index = list( set(datasetindex_remian) ^ set(val_index) ) \r\n",
    "print('test_index', np.sort(test_index),len(test_index) )   \r\n"
   ],
   "outputs": [
    {
     "output_type": "stream",
     "name": "stdout",
     "text": [
      "datasetindex [  1   2   3   4   5   6   7   8   9  10  11  12  13  14  15  16  17  18\n",
      "  19  20  21  22  23  24  25  26  27  28  29  30  31  32  33  34  35  36\n",
      "  37  38  39  40  41  42  43  44  45  46  47  48  49  50  51  52  53  54\n",
      "  55  56  57  58  59  60  61  62  63  64  65  66  67  68  69  70  71  72\n",
      "  73  74  75  76  77  78  79  80  81  82  83  84  85  86  87  88  89  90\n",
      "  91  92  93  94  95  96  97  98  99 100] 100\n",
      "train_index [  1   2   3   4   5   6   7   8   9  11  12  14  15  16  17  18  19  23\n",
      "  24  25  27  28  29  31  32  33  34  35  36  39  41  42  43  44  46  49\n",
      "  51  52  53  54  55  56  57  58  60  61  62  63  64  67  69  72  74  75\n",
      "  76  77  79  80  81  83  85  86  87  90  91  92  93  94  96 100] 70\n",
      "train_index [10, 13, 20, 21, 22, 26, 30, 37, 38, 40, 45, 47, 48, 50, 59, 65, 66, 68, 70, 71, 73, 78, 82, 84, 88, 89, 95, 97, 98, 99] 30\n",
      "val_index [13 22 26 30 38 48 59 65 68 70 71 82 84 88 97] 15\n",
      "test_index [10 20 21 37 40 45 47 50 66 73 78 89 95 98 99] 15\n"
     ]
    }
   ],
   "metadata": {}
  }
 ],
 "metadata": {
  "orig_nbformat": 4,
  "language_info": {
   "name": "python",
   "version": "3.7.10",
   "mimetype": "text/x-python",
   "codemirror_mode": {
    "name": "ipython",
    "version": 3
   },
   "pygments_lexer": "ipython3",
   "nbconvert_exporter": "python",
   "file_extension": ".py"
  },
  "kernelspec": {
   "name": "python3",
   "display_name": "Python 3.7.10 64-bit"
  },
  "interpreter": {
   "hash": "b3ba2566441a7c06988d0923437866b63cedc61552a5af99d1f4fb67d367b25f"
  }
 },
 "nbformat": 4,
 "nbformat_minor": 2
}